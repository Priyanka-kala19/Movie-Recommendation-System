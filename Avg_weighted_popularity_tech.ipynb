{
 "cells": [
  {
   "cell_type": "code",
   "execution_count": 2,
   "id": "28a1930d",
   "metadata": {},
   "outputs": [],
   "source": [
    "import pandas as pd\n",
    "import numpy as np\n",
    "import matplotlib.pyplot as plt"
   ]
  },
  {
   "cell_type": "code",
   "execution_count": 4,
   "id": "913e993c",
   "metadata": {},
   "outputs": [],
   "source": [
    "df=pd.read_csv(r'C:\\Users\\Priyanka Kala\\Recommendation System\\databases/cleaned_data.csv')"
   ]
  },
  {
   "cell_type": "code",
   "execution_count": 5,
   "id": "420d9f5f",
   "metadata": {},
   "outputs": [
    {
     "data": {
      "text/plain": [
       "Index(['Unnamed: 0', 'budget', 'genres', 'id', 'keywords', 'original_language',\n",
       "       'original_title', 'overview', 'popularity', 'production_companies',\n",
       "       'release_date', 'revenue', 'runtime', 'spoken_languages', 'tagline',\n",
       "       'vote_average', 'vote_count', 'cast', 'crew'],\n",
       "      dtype='object')"
      ]
     },
     "execution_count": 5,
     "metadata": {},
     "output_type": "execute_result"
    }
   ],
   "source": [
    "df.columns"
   ]
  },
  {
   "cell_type": "code",
   "execution_count": 6,
   "id": "6b7e7c4c",
   "metadata": {},
   "outputs": [
    {
     "data": {
      "text/html": [
       "<div>\n",
       "<style scoped>\n",
       "    .dataframe tbody tr th:only-of-type {\n",
       "        vertical-align: middle;\n",
       "    }\n",
       "\n",
       "    .dataframe tbody tr th {\n",
       "        vertical-align: top;\n",
       "    }\n",
       "\n",
       "    .dataframe thead th {\n",
       "        text-align: right;\n",
       "    }\n",
       "</style>\n",
       "<table border=\"1\" class=\"dataframe\">\n",
       "  <thead>\n",
       "    <tr style=\"text-align: right;\">\n",
       "      <th></th>\n",
       "      <th>Unnamed: 0</th>\n",
       "      <th>budget</th>\n",
       "      <th>genres</th>\n",
       "      <th>id</th>\n",
       "      <th>keywords</th>\n",
       "      <th>original_language</th>\n",
       "      <th>original_title</th>\n",
       "      <th>overview</th>\n",
       "      <th>popularity</th>\n",
       "      <th>production_companies</th>\n",
       "      <th>release_date</th>\n",
       "      <th>revenue</th>\n",
       "      <th>runtime</th>\n",
       "      <th>spoken_languages</th>\n",
       "      <th>tagline</th>\n",
       "      <th>vote_average</th>\n",
       "      <th>vote_count</th>\n",
       "      <th>cast</th>\n",
       "      <th>crew</th>\n",
       "    </tr>\n",
       "  </thead>\n",
       "  <tbody>\n",
       "    <tr>\n",
       "      <th>0</th>\n",
       "      <td>0</td>\n",
       "      <td>237000000</td>\n",
       "      <td>[{\"id\": 28, \"name\": \"Action\"}, {\"id\": 12, \"nam...</td>\n",
       "      <td>19995</td>\n",
       "      <td>[{\"id\": 1463, \"name\": \"culture clash\"}, {\"id\":...</td>\n",
       "      <td>en</td>\n",
       "      <td>Avatar</td>\n",
       "      <td>In the 22nd century, a paraplegic Marine is di...</td>\n",
       "      <td>150.437577</td>\n",
       "      <td>[{\"name\": \"Ingenious Film Partners\", \"id\": 289...</td>\n",
       "      <td>2009-12-10</td>\n",
       "      <td>2787965087</td>\n",
       "      <td>162.0</td>\n",
       "      <td>[{\"iso_639_1\": \"en\", \"name\": \"English\"}, {\"iso...</td>\n",
       "      <td>Enter the World of Pandora.</td>\n",
       "      <td>7.2</td>\n",
       "      <td>11800</td>\n",
       "      <td>[{\"cast_id\": 242, \"character\": \"Jake Sully\", \"...</td>\n",
       "      <td>[{\"credit_id\": \"52fe48009251416c750aca23\", \"de...</td>\n",
       "    </tr>\n",
       "    <tr>\n",
       "      <th>1</th>\n",
       "      <td>1</td>\n",
       "      <td>300000000</td>\n",
       "      <td>[{\"id\": 12, \"name\": \"Adventure\"}, {\"id\": 14, \"...</td>\n",
       "      <td>285</td>\n",
       "      <td>[{\"id\": 270, \"name\": \"ocean\"}, {\"id\": 726, \"na...</td>\n",
       "      <td>en</td>\n",
       "      <td>Pirates of the Caribbean: At World's End</td>\n",
       "      <td>Captain Barbossa, long believed to be dead, ha...</td>\n",
       "      <td>139.082615</td>\n",
       "      <td>[{\"name\": \"Walt Disney Pictures\", \"id\": 2}, {\"...</td>\n",
       "      <td>2007-05-19</td>\n",
       "      <td>961000000</td>\n",
       "      <td>169.0</td>\n",
       "      <td>[{\"iso_639_1\": \"en\", \"name\": \"English\"}]</td>\n",
       "      <td>At the end of the world, the adventure begins.</td>\n",
       "      <td>6.9</td>\n",
       "      <td>4500</td>\n",
       "      <td>[{\"cast_id\": 4, \"character\": \"Captain Jack Spa...</td>\n",
       "      <td>[{\"credit_id\": \"52fe4232c3a36847f800b579\", \"de...</td>\n",
       "    </tr>\n",
       "  </tbody>\n",
       "</table>\n",
       "</div>"
      ],
      "text/plain": [
       "   Unnamed: 0     budget                                             genres  \\\n",
       "0           0  237000000  [{\"id\": 28, \"name\": \"Action\"}, {\"id\": 12, \"nam...   \n",
       "1           1  300000000  [{\"id\": 12, \"name\": \"Adventure\"}, {\"id\": 14, \"...   \n",
       "\n",
       "      id                                           keywords original_language  \\\n",
       "0  19995  [{\"id\": 1463, \"name\": \"culture clash\"}, {\"id\":...                en   \n",
       "1    285  [{\"id\": 270, \"name\": \"ocean\"}, {\"id\": 726, \"na...                en   \n",
       "\n",
       "                             original_title  \\\n",
       "0                                    Avatar   \n",
       "1  Pirates of the Caribbean: At World's End   \n",
       "\n",
       "                                            overview  popularity  \\\n",
       "0  In the 22nd century, a paraplegic Marine is di...  150.437577   \n",
       "1  Captain Barbossa, long believed to be dead, ha...  139.082615   \n",
       "\n",
       "                                production_companies release_date     revenue  \\\n",
       "0  [{\"name\": \"Ingenious Film Partners\", \"id\": 289...   2009-12-10  2787965087   \n",
       "1  [{\"name\": \"Walt Disney Pictures\", \"id\": 2}, {\"...   2007-05-19   961000000   \n",
       "\n",
       "   runtime                                   spoken_languages  \\\n",
       "0    162.0  [{\"iso_639_1\": \"en\", \"name\": \"English\"}, {\"iso...   \n",
       "1    169.0           [{\"iso_639_1\": \"en\", \"name\": \"English\"}]   \n",
       "\n",
       "                                          tagline  vote_average  vote_count  \\\n",
       "0                     Enter the World of Pandora.           7.2       11800   \n",
       "1  At the end of the world, the adventure begins.           6.9        4500   \n",
       "\n",
       "                                                cast  \\\n",
       "0  [{\"cast_id\": 242, \"character\": \"Jake Sully\", \"...   \n",
       "1  [{\"cast_id\": 4, \"character\": \"Captain Jack Spa...   \n",
       "\n",
       "                                                crew  \n",
       "0  [{\"credit_id\": \"52fe48009251416c750aca23\", \"de...  \n",
       "1  [{\"credit_id\": \"52fe4232c3a36847f800b579\", \"de...  "
      ]
     },
     "execution_count": 6,
     "metadata": {},
     "output_type": "execute_result"
    }
   ],
   "source": [
    "df.head(2)"
   ]
  },
  {
   "cell_type": "code",
   "execution_count": 7,
   "id": "1ded3737",
   "metadata": {},
   "outputs": [],
   "source": [
    "v=df['vote_count']\n",
    "C=df['vote_average'].mean()\n",
    "R=df['vote_average']"
   ]
  },
  {
   "cell_type": "code",
   "execution_count": 8,
   "id": "0b496cc3",
   "metadata": {},
   "outputs": [
    {
     "data": {
      "text/plain": [
       "6.092171559442011"
      ]
     },
     "execution_count": 8,
     "metadata": {},
     "output_type": "execute_result"
    }
   ],
   "source": [
    "C"
   ]
  },
  {
   "cell_type": "code",
   "execution_count": 9,
   "id": "0ef41bae",
   "metadata": {},
   "outputs": [
    {
     "data": {
      "text/plain": [
       "0       11800\n",
       "1        4500\n",
       "2        4466\n",
       "3        9106\n",
       "4        2124\n",
       "        ...  \n",
       "4798      238\n",
       "4799        5\n",
       "4800        6\n",
       "4801        7\n",
       "4802       16\n",
       "Name: vote_count, Length: 4803, dtype: int64"
      ]
     },
     "execution_count": 9,
     "metadata": {},
     "output_type": "execute_result"
    }
   ],
   "source": [
    "df['vote_count']"
   ]
  },
  {
   "cell_type": "code",
   "execution_count": 12,
   "id": "763d9dfe",
   "metadata": {},
   "outputs": [
    {
     "name": "stderr",
     "output_type": "stream",
     "text": [
      "C:\\Users\\Priyanka Kala\\anaconda3\\lib\\site-packages\\seaborn\\_decorators.py:36: FutureWarning: Pass the following variable as a keyword arg: x. From version 0.12, the only valid positional argument will be `data`, and passing other arguments without an explicit keyword will result in an error or misinterpretation.\n",
      "  warnings.warn(\n"
     ]
    },
    {
     "data": {
      "text/plain": [
       "<AxesSubplot:xlabel='vote_count'>"
      ]
     },
     "execution_count": 12,
     "metadata": {},
     "output_type": "execute_result"
    },
    {
     "data": {
      "image/png": "[encoded data removed]",
      "text/plain": [
       "<Figure size 720x432 with 1 Axes>"
      ]
     },
     "metadata": {
      "needs_background": "light"
     },
     "output_type": "display_data"
    }
   ],
   "source": [
    "import seaborn as sns\n",
    "plt.figure(figsize=(10,6))\n",
    "sns.boxplot(df['vote_count'])"
   ]
  },
  {
   "cell_type": "code",
   "execution_count": 13,
   "id": "ebd58fb3",
   "metadata": {},
   "outputs": [],
   "source": [
    "threshold=df['vote_count'].quantile(0.9)"
   ]
  },
  {
   "cell_type": "code",
   "execution_count": 18,
   "id": "b1e6c06a",
   "metadata": {},
   "outputs": [],
   "source": [
    "m=threshold"
   ]
  },
  {
   "cell_type": "code",
   "execution_count": 19,
   "id": "87b02f74",
   "metadata": {},
   "outputs": [
    {
     "data": {
      "text/plain": [
       "1838.4000000000015"
      ]
     },
     "execution_count": 19,
     "metadata": {},
     "output_type": "execute_result"
    }
   ],
   "source": [
    "m"
   ]
  },
  {
   "cell_type": "code",
   "execution_count": 20,
   "id": "c1f2a515",
   "metadata": {},
   "outputs": [],
   "source": [
    "data=df[df['vote_count']>=1838]"
   ]
  },
  {
   "cell_type": "code",
   "execution_count": 21,
   "id": "0e92758f",
   "metadata": {},
   "outputs": [
    {
     "data": {
      "text/plain": [
       "(481, 19)"
      ]
     },
     "execution_count": 21,
     "metadata": {},
     "output_type": "execute_result"
    }
   ],
   "source": [
    "data.shape"
   ]
  },
  {
   "cell_type": "code",
   "execution_count": 22,
   "id": "57deb0cf",
   "metadata": {},
   "outputs": [],
   "source": [
    "def avg_weighted(x,m=m,C=C):\n",
    "    v=x['vote_count']\n",
    "    R=x['vote_average']\n",
    "    \n",
    "    return ((R*v) + (C*m))/(v+m)\n",
    "    "
   ]
  },
  {
   "cell_type": "code",
   "execution_count": 24,
   "id": "b505aff3",
   "metadata": {},
   "outputs": [
    {
     "name": "stderr",
     "output_type": "stream",
     "text": [
      "C:\\Users\\Priyanka Kala\\AppData\\Local\\Temp\\ipykernel_8196\\2839003288.py:1: SettingWithCopyWarning: \n",
      "A value is trying to be set on a copy of a slice from a DataFrame.\n",
      "Try using .loc[row_indexer,col_indexer] = value instead\n",
      "\n",
      "See the caveats in the documentation: https://pandas.pydata.org/pandas-docs/stable/user_guide/indexing.html#returning-a-view-versus-a-copy\n",
      "  data['avg_weighted']=data.apply(avg_weighted,axis=1)\n"
     ]
    }
   ],
   "source": [
    "data['avg_weighted']=data.apply(avg_weighted,axis=1)"
   ]
  },
  {
   "cell_type": "code",
   "execution_count": 25,
   "id": "f96192b5",
   "metadata": {},
   "outputs": [
    {
     "data": {
      "text/plain": [
       "(481, 20)"
      ]
     },
     "execution_count": 25,
     "metadata": {},
     "output_type": "execute_result"
    }
   ],
   "source": [
    "data.shape"
   ]
  },
  {
   "cell_type": "code",
   "execution_count": 28,
   "id": "1c23c1d3",
   "metadata": {},
   "outputs": [],
   "source": [
    "df_sorted=data.sort_values('avg_weighted',ascending=False)"
   ]
  },
  {
   "cell_type": "code",
   "execution_count": 29,
   "id": "d6468ae2",
   "metadata": {},
   "outputs": [
    {
     "data": {
      "text/plain": [
       "Index(['Unnamed: 0', 'budget', 'genres', 'id', 'keywords', 'original_language',\n",
       "       'original_title', 'overview', 'popularity', 'production_companies',\n",
       "       'release_date', 'revenue', 'runtime', 'spoken_languages', 'tagline',\n",
       "       'vote_average', 'vote_count', 'cast', 'crew', 'avg_weighted'],\n",
       "      dtype='object')"
      ]
     },
     "execution_count": 29,
     "metadata": {},
     "output_type": "execute_result"
    }
   ],
   "source": [
    "df_sorted.columns"
   ]
  },
  {
   "cell_type": "code",
   "execution_count": 31,
   "id": "0ecb3c41",
   "metadata": {},
   "outputs": [
    {
     "data": {
      "text/html": [
       "<div>\n",
       "<style scoped>\n",
       "    .dataframe tbody tr th:only-of-type {\n",
       "        vertical-align: middle;\n",
       "    }\n",
       "\n",
       "    .dataframe tbody tr th {\n",
       "        vertical-align: top;\n",
       "    }\n",
       "\n",
       "    .dataframe thead th {\n",
       "        text-align: right;\n",
       "    }\n",
       "</style>\n",
       "<table border=\"1\" class=\"dataframe\">\n",
       "  <thead>\n",
       "    <tr style=\"text-align: right;\">\n",
       "      <th></th>\n",
       "      <th>original_title</th>\n",
       "      <th>vote_average</th>\n",
       "      <th>vote_count</th>\n",
       "      <th>avg_weighted</th>\n",
       "      <th>popularity</th>\n",
       "    </tr>\n",
       "  </thead>\n",
       "  <tbody>\n",
       "    <tr>\n",
       "      <th>1881</th>\n",
       "      <td>The Shawshank Redemption</td>\n",
       "      <td>8.5</td>\n",
       "      <td>8205</td>\n",
       "      <td>8.059258</td>\n",
       "      <td>136.747729</td>\n",
       "    </tr>\n",
       "    <tr>\n",
       "      <th>662</th>\n",
       "      <td>Fight Club</td>\n",
       "      <td>8.3</td>\n",
       "      <td>9413</td>\n",
       "      <td>7.939256</td>\n",
       "      <td>146.757391</td>\n",
       "    </tr>\n",
       "    <tr>\n",
       "      <th>65</th>\n",
       "      <td>The Dark Knight</td>\n",
       "      <td>8.2</td>\n",
       "      <td>12002</td>\n",
       "      <td>7.920020</td>\n",
       "      <td>187.322927</td>\n",
       "    </tr>\n",
       "    <tr>\n",
       "      <th>3232</th>\n",
       "      <td>Pulp Fiction</td>\n",
       "      <td>8.3</td>\n",
       "      <td>8428</td>\n",
       "      <td>7.904645</td>\n",
       "      <td>121.463076</td>\n",
       "    </tr>\n",
       "    <tr>\n",
       "      <th>96</th>\n",
       "      <td>Inception</td>\n",
       "      <td>8.1</td>\n",
       "      <td>13752</td>\n",
       "      <td>7.863239</td>\n",
       "      <td>167.583710</td>\n",
       "    </tr>\n",
       "    <tr>\n",
       "      <th>3337</th>\n",
       "      <td>The Godfather</td>\n",
       "      <td>8.4</td>\n",
       "      <td>5893</td>\n",
       "      <td>7.851236</td>\n",
       "      <td>143.659698</td>\n",
       "    </tr>\n",
       "    <tr>\n",
       "      <th>95</th>\n",
       "      <td>Interstellar</td>\n",
       "      <td>8.1</td>\n",
       "      <td>10867</td>\n",
       "      <td>7.809479</td>\n",
       "      <td>724.247784</td>\n",
       "    </tr>\n",
       "    <tr>\n",
       "      <th>809</th>\n",
       "      <td>Forrest Gump</td>\n",
       "      <td>8.2</td>\n",
       "      <td>7927</td>\n",
       "      <td>7.803188</td>\n",
       "      <td>138.133331</td>\n",
       "    </tr>\n",
       "    <tr>\n",
       "      <th>329</th>\n",
       "      <td>The Lord of the Rings: The Return of the King</td>\n",
       "      <td>8.1</td>\n",
       "      <td>8064</td>\n",
       "      <td>7.727243</td>\n",
       "      <td>123.630332</td>\n",
       "    </tr>\n",
       "    <tr>\n",
       "      <th>1990</th>\n",
       "      <td>The Empire Strikes Back</td>\n",
       "      <td>8.2</td>\n",
       "      <td>5879</td>\n",
       "      <td>7.697884</td>\n",
       "      <td>78.517830</td>\n",
       "    </tr>\n",
       "  </tbody>\n",
       "</table>\n",
       "</div>"
      ],
      "text/plain": [
       "                                     original_title  vote_average  vote_count  \\\n",
       "1881                       The Shawshank Redemption           8.5        8205   \n",
       "662                                      Fight Club           8.3        9413   \n",
       "65                                  The Dark Knight           8.2       12002   \n",
       "3232                                   Pulp Fiction           8.3        8428   \n",
       "96                                        Inception           8.1       13752   \n",
       "3337                                  The Godfather           8.4        5893   \n",
       "95                                     Interstellar           8.1       10867   \n",
       "809                                    Forrest Gump           8.2        7927   \n",
       "329   The Lord of the Rings: The Return of the King           8.1        8064   \n",
       "1990                        The Empire Strikes Back           8.2        5879   \n",
       "\n",
       "      avg_weighted  popularity  \n",
       "1881      8.059258  136.747729  \n",
       "662       7.939256  146.757391  \n",
       "65        7.920020  187.322927  \n",
       "3232      7.904645  121.463076  \n",
       "96        7.863239  167.583710  \n",
       "3337      7.851236  143.659698  \n",
       "95        7.809479  724.247784  \n",
       "809       7.803188  138.133331  \n",
       "329       7.727243  123.630332  \n",
       "1990      7.697884   78.517830  "
      ]
     },
     "execution_count": 31,
     "metadata": {},
     "output_type": "execute_result"
    }
   ],
   "source": [
    "df_sorted[['original_title','vote_average', 'vote_count','avg_weighted','popularity']].head(10)"
   ]
  },
  {
   "cell_type": "code",
   "execution_count": 36,
   "id": "1cf8d61e",
   "metadata": {},
   "outputs": [
    {
     "data": {
      "text/plain": [
       "Text(0, 0.5, 'Movie title')"
      ]
     },
     "execution_count": 36,
     "metadata": {},
     "output_type": "execute_result"
    },
    {
     "data": {
      "image/png": "[encoded data removed]",
      "text/plain": [
       "<Figure size 432x288 with 1 Axes>"
      ]
     },
     "metadata": {
      "needs_background": "light"
     },
     "output_type": "display_data"
    }
   ],
   "source": [
    "sns.barplot(x=df_sorted['avg_weighted'].head(10),y=df_sorted['original_title'].head(10),data=df_sorted)\n",
    "plt.xlim(4,10)\n",
    "plt.title('Best scores by avg votes')\n",
    "plt.xlabel('Weighted avg score')\n",
    "plt.ylabel('Movie title')"
   ]
  },
  {
   "cell_type": "code",
   "execution_count": 37,
   "id": "becbb298",
   "metadata": {},
   "outputs": [],
   "source": [
    "#POPULARITY BASED TECHNIQUE\n"
   ]
  },
  {
   "cell_type": "code",
   "execution_count": 38,
   "id": "09028482",
   "metadata": {},
   "outputs": [
    {
     "data": {
      "text/html": [
       "<div>\n",
       "<style scoped>\n",
       "    .dataframe tbody tr th:only-of-type {\n",
       "        vertical-align: middle;\n",
       "    }\n",
       "\n",
       "    .dataframe tbody tr th {\n",
       "        vertical-align: top;\n",
       "    }\n",
       "\n",
       "    .dataframe thead th {\n",
       "        text-align: right;\n",
       "    }\n",
       "</style>\n",
       "<table border=\"1\" class=\"dataframe\">\n",
       "  <thead>\n",
       "    <tr style=\"text-align: right;\">\n",
       "      <th></th>\n",
       "      <th>Unnamed: 0</th>\n",
       "      <th>budget</th>\n",
       "      <th>genres</th>\n",
       "      <th>id</th>\n",
       "      <th>keywords</th>\n",
       "      <th>original_language</th>\n",
       "      <th>original_title</th>\n",
       "      <th>overview</th>\n",
       "      <th>popularity</th>\n",
       "      <th>production_companies</th>\n",
       "      <th>release_date</th>\n",
       "      <th>revenue</th>\n",
       "      <th>runtime</th>\n",
       "      <th>spoken_languages</th>\n",
       "      <th>tagline</th>\n",
       "      <th>vote_average</th>\n",
       "      <th>vote_count</th>\n",
       "      <th>cast</th>\n",
       "      <th>crew</th>\n",
       "      <th>avg_weighted</th>\n",
       "    </tr>\n",
       "  </thead>\n",
       "  <tbody>\n",
       "    <tr>\n",
       "      <th>0</th>\n",
       "      <td>0</td>\n",
       "      <td>237000000</td>\n",
       "      <td>[{\"id\": 28, \"name\": \"Action\"}, {\"id\": 12, \"nam...</td>\n",
       "      <td>19995</td>\n",
       "      <td>[{\"id\": 1463, \"name\": \"culture clash\"}, {\"id\":...</td>\n",
       "      <td>en</td>\n",
       "      <td>Avatar</td>\n",
       "      <td>In the 22nd century, a paraplegic Marine is di...</td>\n",
       "      <td>150.437577</td>\n",
       "      <td>[{\"name\": \"Ingenious Film Partners\", \"id\": 289...</td>\n",
       "      <td>2009-12-10</td>\n",
       "      <td>2787965087</td>\n",
       "      <td>162.0</td>\n",
       "      <td>[{\"iso_639_1\": \"en\", \"name\": \"English\"}, {\"iso...</td>\n",
       "      <td>Enter the World of Pandora.</td>\n",
       "      <td>7.2</td>\n",
       "      <td>11800</td>\n",
       "      <td>[{\"cast_id\": 242, \"character\": \"Jake Sully\", \"...</td>\n",
       "      <td>[{\"credit_id\": \"52fe48009251416c750aca23\", \"de...</td>\n",
       "      <td>7.050669</td>\n",
       "    </tr>\n",
       "    <tr>\n",
       "      <th>1</th>\n",
       "      <td>1</td>\n",
       "      <td>300000000</td>\n",
       "      <td>[{\"id\": 12, \"name\": \"Adventure\"}, {\"id\": 14, \"...</td>\n",
       "      <td>285</td>\n",
       "      <td>[{\"id\": 270, \"name\": \"ocean\"}, {\"id\": 726, \"na...</td>\n",
       "      <td>en</td>\n",
       "      <td>Pirates of the Caribbean: At World's End</td>\n",
       "      <td>Captain Barbossa, long believed to be dead, ha...</td>\n",
       "      <td>139.082615</td>\n",
       "      <td>[{\"name\": \"Walt Disney Pictures\", \"id\": 2}, {\"...</td>\n",
       "      <td>2007-05-19</td>\n",
       "      <td>961000000</td>\n",
       "      <td>169.0</td>\n",
       "      <td>[{\"iso_639_1\": \"en\", \"name\": \"English\"}]</td>\n",
       "      <td>At the end of the world, the adventure begins.</td>\n",
       "      <td>6.9</td>\n",
       "      <td>4500</td>\n",
       "      <td>[{\"cast_id\": 4, \"character\": \"Captain Jack Spa...</td>\n",
       "      <td>[{\"credit_id\": \"52fe4232c3a36847f800b579\", \"de...</td>\n",
       "      <td>6.665696</td>\n",
       "    </tr>\n",
       "    <tr>\n",
       "      <th>2</th>\n",
       "      <td>2</td>\n",
       "      <td>245000000</td>\n",
       "      <td>[{\"id\": 28, \"name\": \"Action\"}, {\"id\": 12, \"nam...</td>\n",
       "      <td>206647</td>\n",
       "      <td>[{\"id\": 470, \"name\": \"spy\"}, {\"id\": 818, \"name...</td>\n",
       "      <td>en</td>\n",
       "      <td>Spectre</td>\n",
       "      <td>A cryptic message from Bond’s past sends him o...</td>\n",
       "      <td>107.376788</td>\n",
       "      <td>[{\"name\": \"Columbia Pictures\", \"id\": 5}, {\"nam...</td>\n",
       "      <td>2015-10-26</td>\n",
       "      <td>880674609</td>\n",
       "      <td>148.0</td>\n",
       "      <td>[{\"iso_639_1\": \"fr\", \"name\": \"Fran\\u00e7ais\"},...</td>\n",
       "      <td>A Plan No One Escapes</td>\n",
       "      <td>6.3</td>\n",
       "      <td>4466</td>\n",
       "      <td>[{\"cast_id\": 1, \"character\": \"James Bond\", \"cr...</td>\n",
       "      <td>[{\"credit_id\": \"54805967c3a36829b5002c41\", \"de...</td>\n",
       "      <td>6.239396</td>\n",
       "    </tr>\n",
       "    <tr>\n",
       "      <th>3</th>\n",
       "      <td>3</td>\n",
       "      <td>250000000</td>\n",
       "      <td>[{\"id\": 28, \"name\": \"Action\"}, {\"id\": 80, \"nam...</td>\n",
       "      <td>49026</td>\n",
       "      <td>[{\"id\": 849, \"name\": \"dc comics\"}, {\"id\": 853,...</td>\n",
       "      <td>en</td>\n",
       "      <td>The Dark Knight Rises</td>\n",
       "      <td>Following the death of District Attorney Harve...</td>\n",
       "      <td>112.312950</td>\n",
       "      <td>[{\"name\": \"Legendary Pictures\", \"id\": 923}, {\"...</td>\n",
       "      <td>2012-07-16</td>\n",
       "      <td>1084939099</td>\n",
       "      <td>165.0</td>\n",
       "      <td>[{\"iso_639_1\": \"en\", \"name\": \"English\"}]</td>\n",
       "      <td>The Legend Ends</td>\n",
       "      <td>7.6</td>\n",
       "      <td>9106</td>\n",
       "      <td>[{\"cast_id\": 2, \"character\": \"Bruce Wayne / Ba...</td>\n",
       "      <td>[{\"credit_id\": \"52fe4781c3a36847f81398c3\", \"de...</td>\n",
       "      <td>7.346721</td>\n",
       "    </tr>\n",
       "    <tr>\n",
       "      <th>4</th>\n",
       "      <td>4</td>\n",
       "      <td>260000000</td>\n",
       "      <td>[{\"id\": 28, \"name\": \"Action\"}, {\"id\": 12, \"nam...</td>\n",
       "      <td>49529</td>\n",
       "      <td>[{\"id\": 818, \"name\": \"based on novel\"}, {\"id\":...</td>\n",
       "      <td>en</td>\n",
       "      <td>John Carter</td>\n",
       "      <td>John Carter is a war-weary, former military ca...</td>\n",
       "      <td>43.926995</td>\n",
       "      <td>[{\"name\": \"Walt Disney Pictures\", \"id\": 2}]</td>\n",
       "      <td>2012-03-07</td>\n",
       "      <td>284139100</td>\n",
       "      <td>132.0</td>\n",
       "      <td>[{\"iso_639_1\": \"en\", \"name\": \"English\"}]</td>\n",
       "      <td>Lost in our world, found in another.</td>\n",
       "      <td>6.1</td>\n",
       "      <td>2124</td>\n",
       "      <td>[{\"cast_id\": 5, \"character\": \"John Carter\", \"c...</td>\n",
       "      <td>[{\"credit_id\": \"52fe479ac3a36847f813eaa3\", \"de...</td>\n",
       "      <td>6.096368</td>\n",
       "    </tr>\n",
       "    <tr>\n",
       "      <th>...</th>\n",
       "      <td>...</td>\n",
       "      <td>...</td>\n",
       "      <td>...</td>\n",
       "      <td>...</td>\n",
       "      <td>...</td>\n",
       "      <td>...</td>\n",
       "      <td>...</td>\n",
       "      <td>...</td>\n",
       "      <td>...</td>\n",
       "      <td>...</td>\n",
       "      <td>...</td>\n",
       "      <td>...</td>\n",
       "      <td>...</td>\n",
       "      <td>...</td>\n",
       "      <td>...</td>\n",
       "      <td>...</td>\n",
       "      <td>...</td>\n",
       "      <td>...</td>\n",
       "      <td>...</td>\n",
       "      <td>...</td>\n",
       "    </tr>\n",
       "    <tr>\n",
       "      <th>4291</th>\n",
       "      <td>4291</td>\n",
       "      <td>1200000</td>\n",
       "      <td>[{\"id\": 27, \"name\": \"Horror\"}, {\"id\": 9648, \"n...</td>\n",
       "      <td>176</td>\n",
       "      <td>[{\"id\": 1366, \"name\": \"shotgun\"}, {\"id\": 13000...</td>\n",
       "      <td>en</td>\n",
       "      <td>Saw</td>\n",
       "      <td>Obsessed with teaching his victims the value o...</td>\n",
       "      <td>63.655973</td>\n",
       "      <td>[{\"name\": \"Lions Gate Films\", \"id\": 35}, {\"nam...</td>\n",
       "      <td>2004-10-01</td>\n",
       "      <td>103911669</td>\n",
       "      <td>103.0</td>\n",
       "      <td>[{\"iso_639_1\": \"en\", \"name\": \"English\"}]</td>\n",
       "      <td>Live or die. Make your choice.</td>\n",
       "      <td>7.2</td>\n",
       "      <td>2184</td>\n",
       "      <td>[{\"cast_id\": 4, \"character\": \"Dr. Lawrence Gor...</td>\n",
       "      <td>[{\"credit_id\": \"52fe4223c3a36847f8006c57\", \"de...</td>\n",
       "      <td>6.693677</td>\n",
       "    </tr>\n",
       "    <tr>\n",
       "      <th>4300</th>\n",
       "      <td>4300</td>\n",
       "      <td>1200000</td>\n",
       "      <td>[{\"id\": 80, \"name\": \"Crime\"}, {\"id\": 53, \"name...</td>\n",
       "      <td>500</td>\n",
       "      <td>[{\"id\": 2052, \"name\": \"traitor\"}, {\"id\": 6099,...</td>\n",
       "      <td>en</td>\n",
       "      <td>Reservoir Dogs</td>\n",
       "      <td>A botched robbery indicates a police informant...</td>\n",
       "      <td>66.925866</td>\n",
       "      <td>[{\"name\": \"Live Entertainment\", \"id\": 285}, {\"...</td>\n",
       "      <td>1992-09-02</td>\n",
       "      <td>14661007</td>\n",
       "      <td>99.0</td>\n",
       "      <td>[{\"iso_639_1\": \"en\", \"name\": \"English\"}]</td>\n",
       "      <td>Every dog has his day.</td>\n",
       "      <td>8.0</td>\n",
       "      <td>3697</td>\n",
       "      <td>[{\"cast_id\": 20, \"character\": \"Mr. White/Larry...</td>\n",
       "      <td>[{\"credit_id\": \"52fe424ac3a36847f8012cb9\", \"de...</td>\n",
       "      <td>7.366378</td>\n",
       "    </tr>\n",
       "    <tr>\n",
       "      <th>4302</th>\n",
       "      <td>4302</td>\n",
       "      <td>1200000</td>\n",
       "      <td>[{\"id\": 37, \"name\": \"Western\"}]</td>\n",
       "      <td>429</td>\n",
       "      <td>[{\"id\": 801, \"name\": \"bounty hunter\"}, {\"id\": ...</td>\n",
       "      <td>it</td>\n",
       "      <td>Il buono, il brutto, il cattivo</td>\n",
       "      <td>While the Civil War rages between the Union an...</td>\n",
       "      <td>88.377076</td>\n",
       "      <td>[{\"name\": \"United Artists\", \"id\": 60}, {\"name\"...</td>\n",
       "      <td>1966-12-23</td>\n",
       "      <td>6000000</td>\n",
       "      <td>161.0</td>\n",
       "      <td>[{\"iso_639_1\": \"it\", \"name\": \"Italiano\"}]</td>\n",
       "      <td>For three men the Civil War wasn't hell. It wa...</td>\n",
       "      <td>8.1</td>\n",
       "      <td>2311</td>\n",
       "      <td>[{\"cast_id\": 6, \"character\": \"Tuco\", \"credit_i...</td>\n",
       "      <td>[{\"credit_id\": \"575aee00c3a3682d10000281\", \"de...</td>\n",
       "      <td>7.210428</td>\n",
       "    </tr>\n",
       "    <tr>\n",
       "      <th>4337</th>\n",
       "      <td>4337</td>\n",
       "      <td>1300000</td>\n",
       "      <td>[{\"id\": 80, \"name\": \"Crime\"}, {\"id\": 18, \"name...</td>\n",
       "      <td>103</td>\n",
       "      <td>[{\"id\": 422, \"name\": \"vietnam veteran\"}, {\"id\"...</td>\n",
       "      <td>en</td>\n",
       "      <td>Taxi Driver</td>\n",
       "      <td>A mentally unstable Vietnam War veteran works ...</td>\n",
       "      <td>58.845025</td>\n",
       "      <td>[{\"name\": \"Columbia Pictures Corporation\", \"id...</td>\n",
       "      <td>1976-02-07</td>\n",
       "      <td>28262574</td>\n",
       "      <td>114.0</td>\n",
       "      <td>[{\"iso_639_1\": \"en\", \"name\": \"English\"}, {\"iso...</td>\n",
       "      <td>On every street in every city, there's a nobod...</td>\n",
       "      <td>8.0</td>\n",
       "      <td>2535</td>\n",
       "      <td>[{\"cast_id\": 5, \"character\": \"Travis Bickle\", ...</td>\n",
       "      <td>[{\"credit_id\": \"52fe4218c3a36847f8003803\", \"de...</td>\n",
       "      <td>7.198026</td>\n",
       "    </tr>\n",
       "    <tr>\n",
       "      <th>4602</th>\n",
       "      <td>4602</td>\n",
       "      <td>350000</td>\n",
       "      <td>[{\"id\": 18, \"name\": \"Drama\"}]</td>\n",
       "      <td>389</td>\n",
       "      <td>[{\"id\": 934, \"name\": \"judge\"}, {\"id\": 1417, \"n...</td>\n",
       "      <td>en</td>\n",
       "      <td>12 Angry Men</td>\n",
       "      <td>The defense and the prosecution have rested an...</td>\n",
       "      <td>59.259204</td>\n",
       "      <td>[{\"name\": \"United Artists\", \"id\": 60}, {\"name\"...</td>\n",
       "      <td>1957-03-25</td>\n",
       "      <td>1000000</td>\n",
       "      <td>96.0</td>\n",
       "      <td>[{\"iso_639_1\": \"en\", \"name\": \"English\"}]</td>\n",
       "      <td>Life is in their hands. Death is on their minds.</td>\n",
       "      <td>8.2</td>\n",
       "      <td>2078</td>\n",
       "      <td>[{\"cast_id\": 29, \"character\": \"Juror 8\", \"cred...</td>\n",
       "      <td>[{\"credit_id\": \"52fe423dc3a36847f800ec55\", \"de...</td>\n",
       "      <td>7.210563</td>\n",
       "    </tr>\n",
       "  </tbody>\n",
       "</table>\n",
       "<p>481 rows × 20 columns</p>\n",
       "</div>"
      ],
      "text/plain": [
       "      Unnamed: 0     budget  \\\n",
       "0              0  237000000   \n",
       "1              1  300000000   \n",
       "2              2  245000000   \n",
       "3              3  250000000   \n",
       "4              4  260000000   \n",
       "...          ...        ...   \n",
       "4291        4291    1200000   \n",
       "4300        4300    1200000   \n",
       "4302        4302    1200000   \n",
       "4337        4337    1300000   \n",
       "4602        4602     350000   \n",
       "\n",
       "                                                 genres      id  \\\n",
       "0     [{\"id\": 28, \"name\": \"Action\"}, {\"id\": 12, \"nam...   19995   \n",
       "1     [{\"id\": 12, \"name\": \"Adventure\"}, {\"id\": 14, \"...     285   \n",
       "2     [{\"id\": 28, \"name\": \"Action\"}, {\"id\": 12, \"nam...  206647   \n",
       "3     [{\"id\": 28, \"name\": \"Action\"}, {\"id\": 80, \"nam...   49026   \n",
       "4     [{\"id\": 28, \"name\": \"Action\"}, {\"id\": 12, \"nam...   49529   \n",
       "...                                                 ...     ...   \n",
       "4291  [{\"id\": 27, \"name\": \"Horror\"}, {\"id\": 9648, \"n...     176   \n",
       "4300  [{\"id\": 80, \"name\": \"Crime\"}, {\"id\": 53, \"name...     500   \n",
       "4302                    [{\"id\": 37, \"name\": \"Western\"}]     429   \n",
       "4337  [{\"id\": 80, \"name\": \"Crime\"}, {\"id\": 18, \"name...     103   \n",
       "4602                      [{\"id\": 18, \"name\": \"Drama\"}]     389   \n",
       "\n",
       "                                               keywords original_language  \\\n",
       "0     [{\"id\": 1463, \"name\": \"culture clash\"}, {\"id\":...                en   \n",
       "1     [{\"id\": 270, \"name\": \"ocean\"}, {\"id\": 726, \"na...                en   \n",
       "2     [{\"id\": 470, \"name\": \"spy\"}, {\"id\": 818, \"name...                en   \n",
       "3     [{\"id\": 849, \"name\": \"dc comics\"}, {\"id\": 853,...                en   \n",
       "4     [{\"id\": 818, \"name\": \"based on novel\"}, {\"id\":...                en   \n",
       "...                                                 ...               ...   \n",
       "4291  [{\"id\": 1366, \"name\": \"shotgun\"}, {\"id\": 13000...                en   \n",
       "4300  [{\"id\": 2052, \"name\": \"traitor\"}, {\"id\": 6099,...                en   \n",
       "4302  [{\"id\": 801, \"name\": \"bounty hunter\"}, {\"id\": ...                it   \n",
       "4337  [{\"id\": 422, \"name\": \"vietnam veteran\"}, {\"id\"...                en   \n",
       "4602  [{\"id\": 934, \"name\": \"judge\"}, {\"id\": 1417, \"n...                en   \n",
       "\n",
       "                                original_title  \\\n",
       "0                                       Avatar   \n",
       "1     Pirates of the Caribbean: At World's End   \n",
       "2                                      Spectre   \n",
       "3                        The Dark Knight Rises   \n",
       "4                                  John Carter   \n",
       "...                                        ...   \n",
       "4291                                       Saw   \n",
       "4300                            Reservoir Dogs   \n",
       "4302           Il buono, il brutto, il cattivo   \n",
       "4337                               Taxi Driver   \n",
       "4602                              12 Angry Men   \n",
       "\n",
       "                                               overview  popularity  \\\n",
       "0     In the 22nd century, a paraplegic Marine is di...  150.437577   \n",
       "1     Captain Barbossa, long believed to be dead, ha...  139.082615   \n",
       "2     A cryptic message from Bond’s past sends him o...  107.376788   \n",
       "3     Following the death of District Attorney Harve...  112.312950   \n",
       "4     John Carter is a war-weary, former military ca...   43.926995   \n",
       "...                                                 ...         ...   \n",
       "4291  Obsessed with teaching his victims the value o...   63.655973   \n",
       "4300  A botched robbery indicates a police informant...   66.925866   \n",
       "4302  While the Civil War rages between the Union an...   88.377076   \n",
       "4337  A mentally unstable Vietnam War veteran works ...   58.845025   \n",
       "4602  The defense and the prosecution have rested an...   59.259204   \n",
       "\n",
       "                                   production_companies release_date  \\\n",
       "0     [{\"name\": \"Ingenious Film Partners\", \"id\": 289...   2009-12-10   \n",
       "1     [{\"name\": \"Walt Disney Pictures\", \"id\": 2}, {\"...   2007-05-19   \n",
       "2     [{\"name\": \"Columbia Pictures\", \"id\": 5}, {\"nam...   2015-10-26   \n",
       "3     [{\"name\": \"Legendary Pictures\", \"id\": 923}, {\"...   2012-07-16   \n",
       "4           [{\"name\": \"Walt Disney Pictures\", \"id\": 2}]   2012-03-07   \n",
       "...                                                 ...          ...   \n",
       "4291  [{\"name\": \"Lions Gate Films\", \"id\": 35}, {\"nam...   2004-10-01   \n",
       "4300  [{\"name\": \"Live Entertainment\", \"id\": 285}, {\"...   1992-09-02   \n",
       "4302  [{\"name\": \"United Artists\", \"id\": 60}, {\"name\"...   1966-12-23   \n",
       "4337  [{\"name\": \"Columbia Pictures Corporation\", \"id...   1976-02-07   \n",
       "4602  [{\"name\": \"United Artists\", \"id\": 60}, {\"name\"...   1957-03-25   \n",
       "\n",
       "         revenue  runtime                                   spoken_languages  \\\n",
       "0     2787965087    162.0  [{\"iso_639_1\": \"en\", \"name\": \"English\"}, {\"iso...   \n",
       "1      961000000    169.0           [{\"iso_639_1\": \"en\", \"name\": \"English\"}]   \n",
       "2      880674609    148.0  [{\"iso_639_1\": \"fr\", \"name\": \"Fran\\u00e7ais\"},...   \n",
       "3     1084939099    165.0           [{\"iso_639_1\": \"en\", \"name\": \"English\"}]   \n",
       "4      284139100    132.0           [{\"iso_639_1\": \"en\", \"name\": \"English\"}]   \n",
       "...          ...      ...                                                ...   \n",
       "4291   103911669    103.0           [{\"iso_639_1\": \"en\", \"name\": \"English\"}]   \n",
       "4300    14661007     99.0           [{\"iso_639_1\": \"en\", \"name\": \"English\"}]   \n",
       "4302     6000000    161.0          [{\"iso_639_1\": \"it\", \"name\": \"Italiano\"}]   \n",
       "4337    28262574    114.0  [{\"iso_639_1\": \"en\", \"name\": \"English\"}, {\"iso...   \n",
       "4602     1000000     96.0           [{\"iso_639_1\": \"en\", \"name\": \"English\"}]   \n",
       "\n",
       "                                                tagline  vote_average  \\\n",
       "0                           Enter the World of Pandora.           7.2   \n",
       "1        At the end of the world, the adventure begins.           6.9   \n",
       "2                                 A Plan No One Escapes           6.3   \n",
       "3                                       The Legend Ends           7.6   \n",
       "4                  Lost in our world, found in another.           6.1   \n",
       "...                                                 ...           ...   \n",
       "4291                     Live or die. Make your choice.           7.2   \n",
       "4300                             Every dog has his day.           8.0   \n",
       "4302  For three men the Civil War wasn't hell. It wa...           8.1   \n",
       "4337  On every street in every city, there's a nobod...           8.0   \n",
       "4602   Life is in their hands. Death is on their minds.           8.2   \n",
       "\n",
       "      vote_count                                               cast  \\\n",
       "0          11800  [{\"cast_id\": 242, \"character\": \"Jake Sully\", \"...   \n",
       "1           4500  [{\"cast_id\": 4, \"character\": \"Captain Jack Spa...   \n",
       "2           4466  [{\"cast_id\": 1, \"character\": \"James Bond\", \"cr...   \n",
       "3           9106  [{\"cast_id\": 2, \"character\": \"Bruce Wayne / Ba...   \n",
       "4           2124  [{\"cast_id\": 5, \"character\": \"John Carter\", \"c...   \n",
       "...          ...                                                ...   \n",
       "4291        2184  [{\"cast_id\": 4, \"character\": \"Dr. Lawrence Gor...   \n",
       "4300        3697  [{\"cast_id\": 20, \"character\": \"Mr. White/Larry...   \n",
       "4302        2311  [{\"cast_id\": 6, \"character\": \"Tuco\", \"credit_i...   \n",
       "4337        2535  [{\"cast_id\": 5, \"character\": \"Travis Bickle\", ...   \n",
       "4602        2078  [{\"cast_id\": 29, \"character\": \"Juror 8\", \"cred...   \n",
       "\n",
       "                                                   crew  avg_weighted  \n",
       "0     [{\"credit_id\": \"52fe48009251416c750aca23\", \"de...      7.050669  \n",
       "1     [{\"credit_id\": \"52fe4232c3a36847f800b579\", \"de...      6.665696  \n",
       "2     [{\"credit_id\": \"54805967c3a36829b5002c41\", \"de...      6.239396  \n",
       "3     [{\"credit_id\": \"52fe4781c3a36847f81398c3\", \"de...      7.346721  \n",
       "4     [{\"credit_id\": \"52fe479ac3a36847f813eaa3\", \"de...      6.096368  \n",
       "...                                                 ...           ...  \n",
       "4291  [{\"credit_id\": \"52fe4223c3a36847f8006c57\", \"de...      6.693677  \n",
       "4300  [{\"credit_id\": \"52fe424ac3a36847f8012cb9\", \"de...      7.366378  \n",
       "4302  [{\"credit_id\": \"575aee00c3a3682d10000281\", \"de...      7.210428  \n",
       "4337  [{\"credit_id\": \"52fe4218c3a36847f8003803\", \"de...      7.198026  \n",
       "4602  [{\"credit_id\": \"52fe423dc3a36847f800ec55\", \"de...      7.210563  \n",
       "\n",
       "[481 rows x 20 columns]"
      ]
     },
     "execution_count": 38,
     "metadata": {},
     "output_type": "execute_result"
    }
   ],
   "source": [
    "data"
   ]
  },
  {
   "cell_type": "code",
   "execution_count": 39,
   "id": "4433874a",
   "metadata": {},
   "outputs": [
    {
     "data": {
      "text/plain": [
       "Index(['Unnamed: 0', 'budget', 'genres', 'id', 'keywords', 'original_language',\n",
       "       'original_title', 'overview', 'popularity', 'production_companies',\n",
       "       'release_date', 'revenue', 'runtime', 'spoken_languages', 'tagline',\n",
       "       'vote_average', 'vote_count', 'cast', 'crew', 'avg_weighted'],\n",
       "      dtype='object')"
      ]
     },
     "execution_count": 39,
     "metadata": {},
     "output_type": "execute_result"
    }
   ],
   "source": [
    "data.columns"
   ]
  },
  {
   "cell_type": "code",
   "execution_count": 41,
   "id": "a505b03c",
   "metadata": {},
   "outputs": [],
   "source": [
    "pop=data.sort_values('popularity',ascending=False)"
   ]
  },
  {
   "cell_type": "code",
   "execution_count": 42,
   "id": "c0bd5c95",
   "metadata": {},
   "outputs": [
    {
     "data": {
      "text/plain": [
       "Index(['Unnamed: 0', 'budget', 'genres', 'id', 'keywords', 'original_language',\n",
       "       'original_title', 'overview', 'popularity', 'production_companies',\n",
       "       'release_date', 'revenue', 'runtime', 'spoken_languages', 'tagline',\n",
       "       'vote_average', 'vote_count', 'cast', 'crew', 'avg_weighted'],\n",
       "      dtype='object')"
      ]
     },
     "execution_count": 42,
     "metadata": {},
     "output_type": "execute_result"
    }
   ],
   "source": [
    "pop.columns"
   ]
  },
  {
   "cell_type": "code",
   "execution_count": 44,
   "id": "318547ff",
   "metadata": {},
   "outputs": [],
   "source": [
    "p=pop[['original_title','popularity','vote_average','vote_count']]"
   ]
  },
  {
   "cell_type": "code",
   "execution_count": 51,
   "id": "177dac6b",
   "metadata": {},
   "outputs": [
    {
     "data": {
      "text/plain": [
       "Text(0, 0.5, 'Scores')"
      ]
     },
     "execution_count": 51,
     "metadata": {},
     "output_type": "execute_result"
    },
    {
     "data": {
      "image/png": "[encoded data removed]",
      "text/plain": [
       "<Figure size 432x288 with 1 Axes>"
      ]
     },
     "metadata": {
      "needs_background": "light"
     },
     "output_type": "display_data"
    }
   ],
   "source": [
    "p.set_index('original_title')['popularity'].nlargest(10).plot(kind='bar')\n",
    "plt.title('Popular Movies',weight='bold')\n",
    "plt.xlabel('Movie title')\n",
    "plt.ylabel('Scores')"
   ]
  },
  {
   "cell_type": "code",
   "execution_count": null,
   "id": "30d57898",
   "metadata": {},
   "outputs": [],
   "source": []
  }
 ],
 "metadata": {
  "kernelspec": {
   "display_name": "Python 3 (ipykernel)",
   "language": "python",
   "name": "python3"
  },
  "language_info": {
   "codemirror_mode": {
    "name": "ipython",
    "version": 3
   },
   "file_extension": ".py",
   "mimetype": "text/x-python",
   "name": "python",
   "nbconvert_exporter": "python",
   "pygments_lexer": "ipython3",
   "version": "3.9.12"
  }
 },
 "nbformat": 4,
 "nbformat_minor": 5
}
